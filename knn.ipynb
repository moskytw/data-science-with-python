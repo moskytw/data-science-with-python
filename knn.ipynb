{
 "cells": [
  {
   "cell_type": "code",
   "execution_count": 1,
   "metadata": {},
   "outputs": [],
   "source": [
    "%matplotlib inline\n",
    "import numpy as np\n",
    "import scipy as sp\n",
    "import matplotlib as mpl\n",
    "import matplotlib.pyplot as plt\n",
    "import IPython as ip\n",
    "import pandas as pd\n",
    "import seaborn as sns\n",
    "import statsmodels.api as sm\n",
    "import statsmodels.formula.api as smf"
   ]
  },
  {
   "cell_type": "code",
   "execution_count": 2,
   "metadata": {},
   "outputs": [],
   "source": [
    "mpl.style.use('ggplot')\n",
    "mpl.rc('figure', figsize=(7.2, 5.76))\n",
    "mpl.rc('font', family='Noto Sans CJK TC')\n",
    "plt.rc('lines', markeredgecolor='white', markeredgewidth=0.75)\n",
    "plt.rc('patch', edgecolor='white', force_edgecolor=True, linewidth=1)\n",
    "ip.display.set_matplotlib_formats('svg')"
   ]
  },
  {
   "cell_type": "code",
   "execution_count": 3,
   "metadata": {},
   "outputs": [],
   "source": [
    "from sklearn import preprocessing\n",
    "from sklearn import model_selection\n",
    "from sklearn import neighbors\n",
    "from sklearn import metrics"
   ]
  },
  {
   "cell_type": "code",
   "execution_count": 4,
   "metadata": {},
   "outputs": [],
   "source": [
    "m = sm.datasets.anes96\n",
    "df = m.load_pandas().data\n",
    "df_raw = df"
   ]
  },
  {
   "cell_type": "code",
   "execution_count": 5,
   "metadata": {},
   "outputs": [],
   "source": [
    "df = df_raw\n",
    "df_X = df[[c for c in df.columns if c != 'vote']]\n",
    "s_y = df.vote\n",
    "X_raw = df_X.values\n",
    "y_raw = s_y.values"
   ]
  },
  {
   "cell_type": "code",
   "execution_count": 6,
   "metadata": {},
   "outputs": [
    {
     "name": "stdout",
     "output_type": "stream",
     "text": [
      "The model:\n",
      "\n"
     ]
    },
    {
     "data": {
      "text/plain": [
       "NearestNeighbors(algorithm='auto', leaf_size=30, metric='minkowski',\n",
       "                 metric_params=None, n_jobs=None, n_neighbors=5, p=2,\n",
       "                 radius=1.0)"
      ]
     },
     "metadata": {},
     "output_type": "display_data"
    },
    {
     "name": "stdout",
     "output_type": "stream",
     "text": [
      "\n",
      "The training time:\n",
      "\n",
      "CPU times: user 418 µs, sys: 52 µs, total: 470 µs\n",
      "Wall time: 453 µs\n",
      "\n",
      "The pseudo metrics:\n",
      "\n",
      "              precision    recall  f1-score   support\n",
      "\n",
      "         0.0       0.90      0.85      0.88       663\n",
      "         1.0       0.81      0.87      0.84       471\n",
      "\n",
      "    accuracy                           0.86      1134\n",
      "   macro avg       0.85      0.86      0.86      1134\n",
      "weighted avg       0.86      0.86      0.86      1134\n",
      "\n"
     ]
    }
   ],
   "source": [
    "X = X_raw\n",
    "y = y_raw\n",
    "\n",
    "X = preprocessing.scale(X)\n",
    "\n",
    "X_train, X_test, y_train, y_test = model_selection.train_test_split(\n",
    "    X, y, test_size=0.4, random_state=20200502\n",
    ")\n",
    "\n",
    "print('The model:\\n')\n",
    "nbrs = neighbors.NearestNeighbors()\n",
    "display(nbrs)\n",
    "print()\n",
    "\n",
    "print('The training time:\\n')\n",
    "%time nbrs.fit(X_train)\n",
    "print()\n",
    "\n",
    "n = 3\n",
    "indices = nbrs.kneighbors(X_test, n, return_distance=False)\n",
    "\n",
    "pseudo_y_true = (y_test.repeat(n)\n",
    "                       .reshape((y_test.shape[0], n))\n",
    "                       .flatten())\n",
    "pseudo_y_pred = y_train[indices.flatten()]\n",
    "\n",
    "print('The pseudo metrics:\\n')\n",
    "print(metrics.classification_report(pseudo_y_true, pseudo_y_pred))"
   ]
  }
 ],
 "metadata": {
  "kernelspec": {
   "display_name": "Python 3 (data-science-with-python)",
   "language": "python",
   "name": "python3-data-science-with-python"
  },
  "language_info": {
   "codemirror_mode": {
    "name": "ipython",
    "version": 3
   },
   "file_extension": ".py",
   "mimetype": "text/x-python",
   "name": "python",
   "nbconvert_exporter": "python",
   "pygments_lexer": "ipython3",
   "version": "3.7.3"
  }
 },
 "nbformat": 4,
 "nbformat_minor": 4
}
