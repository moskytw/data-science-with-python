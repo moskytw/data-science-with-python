{
 "cells": [
  {
   "cell_type": "code",
   "execution_count": null,
   "metadata": {},
   "outputs": [],
   "source": [
    "print('Check the dependencies ...', end=' ')\n",
    "\n",
    "# the SciPy stack\n",
    "import numpy\n",
    "import scipy\n",
    "import sympy\n",
    "import matplotlib\n",
    "import pandas\n",
    "\n",
    "# Python's data science packages\n",
    "import seaborn\n",
    "import statsmodels\n",
    "import sklearn\n",
    "\n",
    "print('OK.')"
   ]
  },
  {
   "cell_type": "code",
   "execution_count": null,
   "metadata": {},
   "outputs": [],
   "source": [
    "for module in [\n",
    "    numpy, scipy, sympy, matplotlib, pandas,\n",
    "    seaborn, statsmodels, sklearn\n",
    "]:\n",
    "    \n",
    "    print('The', module.__name__, 'is loaded from ...', end=' ')\n",
    "    \n",
    "    if 'virtualenv' in module.__file__:\n",
    "        print('virtualenv.')\n",
    "    else:\n",
    "        print('global enviroment.')"
   ]
  }
 ],
 "metadata": {
  "kernelspec": {
   "display_name": "Python 3 (data-science-with-python)",
   "language": "python",
   "name": "python3-data-science-with-python"
  },
  "language_info": {
   "codemirror_mode": {
    "name": "ipython",
    "version": 3
   },
   "file_extension": ".py",
   "mimetype": "text/x-python",
   "name": "python",
   "nbconvert_exporter": "python",
   "pygments_lexer": "ipython3",
   "version": "3.6.5"
  },
  "toc": {
   "base_numbering": 1,
   "nav_menu": {},
   "number_sections": true,
   "sideBar": true,
   "skip_h1_title": true,
   "title_cell": "Table of Contents",
   "title_sidebar": "Contents",
   "toc_cell": false,
   "toc_position": {},
   "toc_section_display": "block",
   "toc_window_display": false
  }
 },
 "nbformat": 4,
 "nbformat_minor": 2
}
