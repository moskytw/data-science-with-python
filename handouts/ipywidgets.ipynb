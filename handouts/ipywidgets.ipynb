{
 "cells": [
  {
   "cell_type": "code",
   "execution_count": 1,
   "metadata": {},
   "outputs": [],
   "source": [
    "%matplotlib inline\n",
    "import numpy as np\n",
    "import scipy as sp\n",
    "import matplotlib as mpl\n",
    "import matplotlib.pyplot as plt\n",
    "import IPython as ip\n",
    "import pandas as pd\n",
    "import seaborn as sns\n",
    "import statsmodels.api as sm\n",
    "import statsmodels.formula.api as smf"
   ]
  },
  {
   "cell_type": "code",
   "execution_count": 2,
   "metadata": {},
   "outputs": [],
   "source": [
    "mpl.style.use('ggplot')\n",
    "mpl.rc('figure', figsize=(7.2, 5.76))\n",
    "mpl.rc('font', family='Noto Sans CJK TC')\n",
    "plt.rc('lines', markeredgecolor='white', markeredgewidth=0.75)\n",
    "plt.rc('patch', edgecolor='white', force_edgecolor=True, linewidth=1)\n",
    "ip.display.set_matplotlib_formats('svg')"
   ]
  },
  {
   "cell_type": "code",
   "execution_count": 3,
   "metadata": {},
   "outputs": [],
   "source": [
    "import ipywidgets as widgets"
   ]
  },
  {
   "cell_type": "code",
   "execution_count": 4,
   "metadata": {},
   "outputs": [],
   "source": [
    "m = sm.datasets.anes96\n",
    "df = m.load_pandas().data\n",
    "df_raw = df"
   ]
  },
  {
   "cell_type": "code",
   "execution_count": 5,
   "metadata": {},
   "outputs": [
    {
     "data": {
      "application/vnd.jupyter.widget-view+json": {
       "model_id": "b10e99532bee4af2ada334f55f89ec46",
       "version_major": 2,
       "version_minor": 0
      },
      "text/plain": [
       "interactive(children=(IntSlider(value=0, description='x'), Output()), _dom_classes=('widget-interact',))"
      ]
     },
     "metadata": {},
     "output_type": "display_data"
    }
   ],
   "source": [
    "@widgets.interact(x=widgets.IntSlider())\n",
    "def f(x):\n",
    "    return x"
   ]
  },
  {
   "cell_type": "code",
   "execution_count": 6,
   "metadata": {},
   "outputs": [
    {
     "data": {
      "application/vnd.jupyter.widget-view+json": {
       "model_id": "9f276a217dd2423c864f87a79bba687e",
       "version_major": 2,
       "version_minor": 0
      },
      "text/plain": [
       "interactive(children=(Dropdown(description='x', index=5, options=('popul', 'TVnews', 'selfLR', 'ClinLR', 'Dole…"
      ]
     },
     "metadata": {},
     "output_type": "display_data"
    }
   ],
   "source": [
    "df = df_raw\n",
    "@widgets.interact(x=widgets.Dropdown(options=df.columns, value='PID'),\n",
    "                  y=widgets.Dropdown(options=df.columns, value='vote'),\n",
    "                  hue=widgets.Dropdown(options=df.columns, value=None),)\n",
    "def f(x, y, hue):\n",
    "    sns.pointplot(data=df, x=x, y=y, hue=hue)"
   ]
  }
 ],
 "metadata": {
  "kernelspec": {
   "display_name": "Python 3 (data-science-with-python)",
   "language": "python",
   "name": "python3-data-science-with-python"
  },
  "language_info": {
   "codemirror_mode": {
    "name": "ipython",
    "version": 3
   },
   "file_extension": ".py",
   "mimetype": "text/x-python",
   "name": "python",
   "nbconvert_exporter": "python",
   "pygments_lexer": "ipython3",
   "version": "3.7.3"
  }
 },
 "nbformat": 4,
 "nbformat_minor": 4
}
